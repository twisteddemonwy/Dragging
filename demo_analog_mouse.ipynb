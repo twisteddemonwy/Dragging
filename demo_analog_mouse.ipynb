{
 "cells": [
  {
   "cell_type": "markdown",
   "metadata": {},
   "source": [
    "##### **导入包**"
   ]
  },
  {
   "cell_type": "code",
   "execution_count": 29,
   "metadata": {},
   "outputs": [],
   "source": [
    "import pyautogui as pg\n",
    "import time\n",
    "from selenium import webdriver\n",
    "from selenium.webdriver import ActionChains\n",
    "from selenium.webdriver.common.by import By"
   ]
  },
  {
   "cell_type": "markdown",
   "metadata": {},
   "source": [
    "##### **创建driver环境**"
   ]
  },
  {
   "cell_type": "code",
   "execution_count": 5,
   "metadata": {},
   "outputs": [],
   "source": [
    "driver = webdriver.Chrome()\n",
    "driver.maximize_window()\n",
    "driver.get(\"https://employer.simplyhired-qa.com/account/sign-in\")"
   ]
  },
  {
   "cell_type": "markdown",
   "metadata": {},
   "source": [
    "##### **登录ATS**"
   ]
  },
  {
   "cell_type": "code",
   "execution_count": 7,
   "metadata": {},
   "outputs": [],
   "source": [
    "driver.find_element(By.CSS_SELECTOR, \"input#input-emailWork\").send_keys(\"wyun28461+9999@gmail.com\")\n",
    "driver.find_element(By.CSS_SELECTOR, \"input#input-password\").send_keys(\"Qwert%4321\")\n",
    "driver.find_element(By.CSS_SELECTOR, 'button[class=\"commit-button primary-button\"]').click()"
   ]
  },
  {
   "cell_type": "markdown",
   "metadata": {},
   "source": [
    "##### **模仿鼠标拖拽**"
   ]
  },
  {
   "cell_type": "code",
   "execution_count": 65,
   "metadata": {},
   "outputs": [],
   "source": [
    "folder = driver.find_element(By.CSS_SELECTOR, 'div[data-rbd-droppable-id=\"2741\"]')\n",
    "document = driver.find_element(By.CSS_SELECTOR, 'span[class=\"document-drag-img\"]')\n",
    "\n",
    "doc_location = document.location\n",
    "fol_location = folder.location\n",
    "\n",
    "time.sleep(3)\n",
    "pg.moveTo(doc_location['x']+0, doc_location['y']+120, 2)\n",
    "\n",
    "time.sleep(3)\n",
    "\n",
    "\n",
    "pg.dragTo(fol_location['x']+0, fol_location['y']+120, 2, button=\"left\")"
   ]
  }
 ],
 "metadata": {
  "kernelspec": {
   "display_name": "Python 3.9.12 64-bit",
   "language": "python",
   "name": "python3"
  },
  "language_info": {
   "codemirror_mode": {
    "name": "ipython",
    "version": 3
   },
   "file_extension": ".py",
   "mimetype": "text/x-python",
   "name": "python",
   "nbconvert_exporter": "python",
   "pygments_lexer": "ipython3",
   "version": "3.9.12"
  },
  "orig_nbformat": 4,
  "vscode": {
   "interpreter": {
    "hash": "dce978a835fd9d3a31bac2494210597c6f86a2c85e5a6b2e5caad176a1de499d"
   }
  }
 },
 "nbformat": 4,
 "nbformat_minor": 2
}
